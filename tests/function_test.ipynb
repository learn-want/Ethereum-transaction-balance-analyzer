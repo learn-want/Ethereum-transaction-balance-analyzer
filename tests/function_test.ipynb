{
 "cells": [
  {
   "cell_type": "code",
   "execution_count": 1,
   "metadata": {},
   "outputs": [],
   "source": [
    "from transaction_balance_analyzer import AccountBalanceChangeAnalyzer \n",
    "import os"
   ]
  },
  {
   "cell_type": "code",
   "execution_count": 2,
   "metadata": {},
   "outputs": [
    {
     "data": {
      "text/plain": [
       "11.843507326446797"
      ]
     },
     "execution_count": 2,
     "metadata": {},
     "output_type": "execute_result"
    }
   ],
   "source": [
    "11.85297827-0.00947094355320155"
   ]
  },
  {
   "cell_type": "code",
   "execution_count": 17,
   "metadata": {},
   "outputs": [
    {
     "data": {
      "text/plain": [
       "3108.14"
      ]
     },
     "execution_count": 17,
     "metadata": {},
     "output_type": "execute_result"
    }
   ],
   "source": [
    "import json\n",
    "import requests\n",
    "import time\n",
    "import logging\n",
    "\n",
    "RETRY_MAX = 5\n",
    "RETRY_BACKOFF = 1\n",
    "\n",
    "logger = logging.getLogger(__name__)\n",
    "\n",
    "def query_defillama(endpoint):\n",
    "    retries = 0\n",
    "    while retries <= RETRY_MAX:\n",
    "        try:\n",
    "            resp = requests.get(\"https://coins.llama.fi\" + endpoint)\n",
    "            if resp.status_code == 200:\n",
    "                return resp.json()\n",
    "            raise resp.raise_for_status()\n",
    "        except Exception as e:\n",
    "            logger.debug(e)\n",
    "            time.sleep(RETRY_BACKOFF * 2**retries)\n",
    "            retries += 1\n",
    "    raise ConnectionError(\"could not fetch data from DefiLlama\")\n",
    "\n",
    "def get_token_price(token_address: str, date_timestamp: int) -> float:\n",
    "    \"\"\"\n",
    "    查询特定代币在指定时间点的价格\n",
    "    \n",
    "    Args:\n",
    "        token_address: 代币的以太坊地址\n",
    "        date_timestamp: Unix时间戳(秒)\n",
    "    \n",
    "    Returns:\n",
    "        float: 代币价格，如果查询失败返回None\n",
    "    \"\"\"\n",
    "    query_batch = {\n",
    "        f\"ethereum:{token_address}\": [date_timestamp]\n",
    "    }\n",
    "    \n",
    "    try:\n",
    "        query_json = json.dumps(query_batch)\n",
    "        data = query_defillama(f\"/batchHistorical?coins={query_json}\")\n",
    "        \n",
    "        if not data or \"coins\" not in data:\n",
    "            return None\n",
    "            \n",
    "        prices = data[\"coins\"].get(f\"ethereum:{token_address}\", {}).get(\"prices\", [])\n",
    "        if prices and len(prices) > 0:\n",
    "            return prices[0][\"price\"]\n",
    "        return None\n",
    "        \n",
    "    except Exception as e:\n",
    "        logger.error(f\"获取代币价格失败: {str(e)}\")\n",
    "        return None\n",
    "\n",
    "WETH_address = '0xc02aaa39b223fe8d0a0e5c4f27ead9083c756cc2'\n",
    "get_token_price(WETH_address, 1714857600-1*14*3600)"
   ]
  },
  {
   "cell_type": "code",
   "execution_count": 19,
   "metadata": {},
   "outputs": [
    {
     "data": {
      "text/plain": [
       "3108.14"
      ]
     },
     "execution_count": 19,
     "metadata": {},
     "output_type": "execute_result"
    }
   ],
   "source": [
    "def get_token_price(token_address: str, timestamp:int) -> float:\n",
    "        \"\"\"\n",
    "        查询特定代币在指定时间点的价格\n",
    "        \n",
    "        Args:\n",
    "            token_address: 代币的以太坊地址\n",
    "            date_timestamp: Unix时间戳(秒)\n",
    "            \n",
    "        Returns:\n",
    "            float: 代币价格，如果查询失败返回None\n",
    "        \"\"\"\n",
    "        \n",
    "        query_batch = {\n",
    "            f\"ethereum:{token_address}\": [timestamp]\n",
    "        }\n",
    "        \n",
    "        try:\n",
    "            query_json = json.dumps(query_batch)\n",
    "            data =query_defillama(f\"/batchHistorical?coins={query_json}\")\n",
    "            \n",
    "            if not data or \"coins\" not in data:\n",
    "                return 0.0 #如果获取不到价格，返回0\n",
    "                \n",
    "            prices = data[\"coins\"].get(f\"ethereum:{token_address}\", {}).get(\"prices\", [])\n",
    "            if prices and len(prices) > 0:\n",
    "                return prices[0][\"price\"]\n",
    "            return 0.0\n",
    "            \n",
    "        except Exception as e:\n",
    "            logger.error(f\"获取代币价格失败: {str(e)}\")\n",
    "            return 0.0\n",
    "get_token_price(WETH_address, 1714857600-1*14*3600)"
   ]
  },
  {
   "cell_type": "code",
   "execution_count": 10,
   "metadata": {},
   "outputs": [
    {
     "data": {
      "text/plain": [
       "1.002"
      ]
     },
     "execution_count": 10,
     "metadata": {},
     "output_type": "execute_result"
    }
   ],
   "source": [
    "import json\n",
    "import requests\n",
    "import time\n",
    "import logging\n",
    "\n",
    "RETRY_MAX = 5\n",
    "RETRY_BACKOFF = 1\n",
    "\n",
    "logger = logging.getLogger(__name__)\n",
    "\n",
    "def query_defillama(endpoint):\n",
    "    retries = 0\n",
    "    while retries <= RETRY_MAX:\n",
    "        try:\n",
    "            resp = requests.get(\"https://coins.llama.fi\" + endpoint)\n",
    "            if resp.status_code == 200:\n",
    "                return resp.json()\n",
    "            raise resp.raise_for_status()\n",
    "        except Exception as e:\n",
    "            logger.debug(e)\n",
    "            time.sleep(RETRY_BACKOFF * 2**retries)\n",
    "            retries += 1\n",
    "    raise ConnectionError(\"could not fetch data from DefiLlama\")\n",
    "\n",
    "def get_token_price(token_address: str, year, month, day) -> float:\n",
    "    dt = datetime(year, month, day, tzinfo=timezone.utc)\n",
    "    timestamp = int(dt.timestamp())\n",
    "    \"\"\"\n",
    "    查询特定代币在指定时间点的价格\n",
    "    \n",
    "    Args:\n",
    "        token_address: 代币的以太坊地址\n",
    "        date_timestamp: Unix时间戳(秒)\n",
    "    \n",
    "    Returns:\n",
    "        float: 代币价格，如果查询失败返回None\n",
    "    \"\"\"\n",
    "    query_batch = {\n",
    "        f\"ethereum:{token_address}\": [timestamp]\n",
    "    }\n",
    "    \n",
    "    try:\n",
    "        query_json = json.dumps(query_batch)\n",
    "        data = query_defillama(f\"/batchHistorical?coins={query_json}\")\n",
    "        \n",
    "        if not data or \"coins\" not in data:\n",
    "            return None\n",
    "            \n",
    "        prices = data[\"coins\"].get(f\"ethereum:{token_address}\", {}).get(\"prices\", [])\n",
    "        if prices and len(prices) > 0:\n",
    "            return prices[0][\"price\"]\n",
    "        return None\n",
    "        \n",
    "    except Exception as e:\n",
    "        logger.error(f\"获取代币价格失败: {str(e)}\")\n",
    "        return None\n",
    "\n",
    "WETH_address = '0xdAC17F958D2ee523a2206206994597C13D831ec7'\n",
    "get_token_price(WETH_address, 2023, 4, 10)"
   ]
  },
  {
   "cell_type": "code",
   "execution_count": null,
   "metadata": {},
   "outputs": [],
   "source": [
    "response"
   ]
  },
  {
   "cell_type": "code",
   "execution_count": 37,
   "metadata": {},
   "outputs": [
    {
     "data": {
      "text/plain": [
       "AttributeDict({'blockHash': HexBytes('0xa90aa313a4798bbaa04d4cfbbfba78c91dfe65725e09aaade3a4ddaee95d4d0d'),\n",
       " 'blockNumber': 17972221,\n",
       " 'contractAddress': None,\n",
       " 'cumulativeGasUsed': 10989152,\n",
       " 'effectiveGasPrice': 37192526130,\n",
       " 'from': '0x94d02aE7f71C8BC3CC06aA2e9641fb3aE5852444',\n",
       " 'gasUsed': 186187,\n",
       " 'logs': [AttributeDict({'address': '0x1eB2E705653FC9c076bf0428851c54c38e40462f',\n",
       "   'topics': [HexBytes('0xddf252ad1be2c89b69c2b068fc378daa952ba7f163c4a11628f55a4df523b3ef'),\n",
       "    HexBytes('0x00000000000000000000000094d02ae7f71c8bc3cc06aa2e9641fb3ae5852444'),\n",
       "    HexBytes('0x0000000000000000000000001eb2e705653fc9c076bf0428851c54c38e40462f')],\n",
       "   'data': HexBytes('0x000000000000000000000000000000000000000000000001158e460913d00000'),\n",
       "   'blockNumber': 17972221,\n",
       "   'transactionHash': HexBytes('0x191aeb75d5ac81c46d97916cb88f9f02b4a6e5f854823beae99dbd6336f18928'),\n",
       "   'transactionIndex': 118,\n",
       "   'blockHash': HexBytes('0xa90aa313a4798bbaa04d4cfbbfba78c91dfe65725e09aaade3a4ddaee95d4d0d'),\n",
       "   'logIndex': 351,\n",
       "   'removed': False}),\n",
       "  AttributeDict({'address': '0x1eB2E705653FC9c076bf0428851c54c38e40462f',\n",
       "   'topics': [HexBytes('0xddf252ad1be2c89b69c2b068fc378daa952ba7f163c4a11628f55a4df523b3ef'),\n",
       "    HexBytes('0x00000000000000000000000094d02ae7f71c8bc3cc06aa2e9641fb3ae5852444'),\n",
       "    HexBytes('0x0000000000000000000000001d2da52c7bdc4d656e9478ec9ceb844b9322276e')],\n",
       "   'data': HexBytes('0x000000000000000000000000000000000000000000000035203b67bccad00000'),\n",
       "   'blockNumber': 17972221,\n",
       "   'transactionHash': HexBytes('0x191aeb75d5ac81c46d97916cb88f9f02b4a6e5f854823beae99dbd6336f18928'),\n",
       "   'transactionIndex': 118,\n",
       "   'blockHash': HexBytes('0xa90aa313a4798bbaa04d4cfbbfba78c91dfe65725e09aaade3a4ddaee95d4d0d'),\n",
       "   'logIndex': 352,\n",
       "   'removed': False}),\n",
       "  AttributeDict({'address': '0x1eB2E705653FC9c076bf0428851c54c38e40462f',\n",
       "   'topics': [HexBytes('0x8c5be1e5ebec7d5bd14f71427d1e84f3dd0314c0f7b2291e5b200ac8c7c3b925'),\n",
       "    HexBytes('0x00000000000000000000000094d02ae7f71c8bc3cc06aa2e9641fb3ae5852444'),\n",
       "    HexBytes('0x000000000000000000000000b517850510997a34b4ddc8c3797b4f83fad510c4')],\n",
       "   'data': HexBytes('0x00000000000000000000000000000000000000000000000b0331eb91e776cd40'),\n",
       "   'blockNumber': 17972221,\n",
       "   'transactionHash': HexBytes('0x191aeb75d5ac81c46d97916cb88f9f02b4a6e5f854823beae99dbd6336f18928'),\n",
       "   'transactionIndex': 118,\n",
       "   'blockHash': HexBytes('0xa90aa313a4798bbaa04d4cfbbfba78c91dfe65725e09aaade3a4ddaee95d4d0d'),\n",
       "   'logIndex': 353,\n",
       "   'removed': False}),\n",
       "  AttributeDict({'address': '0xC02aaA39b223FE8D0A0e5C4F27eAD9083C756Cc2',\n",
       "   'topics': [HexBytes('0xddf252ad1be2c89b69c2b068fc378daa952ba7f163c4a11628f55a4df523b3ef'),\n",
       "    HexBytes('0x0000000000000000000000001d2da52c7bdc4d656e9478ec9ceb844b9322276e'),\n",
       "    HexBytes('0x000000000000000000000000b517850510997a34b4ddc8c3797b4f83fad510c4')],\n",
       "   'data': HexBytes('0x000000000000000000000000000000000000000000000000008b23061ec19ca1'),\n",
       "   'blockNumber': 17972221,\n",
       "   'transactionHash': HexBytes('0x191aeb75d5ac81c46d97916cb88f9f02b4a6e5f854823beae99dbd6336f18928'),\n",
       "   'transactionIndex': 118,\n",
       "   'blockHash': HexBytes('0xa90aa313a4798bbaa04d4cfbbfba78c91dfe65725e09aaade3a4ddaee95d4d0d'),\n",
       "   'logIndex': 354,\n",
       "   'removed': False}),\n",
       "  AttributeDict({'address': '0x1D2DA52c7bdc4d656E9478eC9Ceb844B9322276e',\n",
       "   'topics': [HexBytes('0x1c411e9a96e071241c2f21f7726b17ae89e3cab4c78be50e062b03a9fffbbad1')],\n",
       "   'data': HexBytes('0x000000000000000000000000000000000000000000002946d710ebe007d7ac9d0000000000000000000000000000000000000000000000006be248ea78dae4ee'),\n",
       "   'blockNumber': 17972221,\n",
       "   'transactionHash': HexBytes('0x191aeb75d5ac81c46d97916cb88f9f02b4a6e5f854823beae99dbd6336f18928'),\n",
       "   'transactionIndex': 118,\n",
       "   'blockHash': HexBytes('0xa90aa313a4798bbaa04d4cfbbfba78c91dfe65725e09aaade3a4ddaee95d4d0d'),\n",
       "   'logIndex': 355,\n",
       "   'removed': False}),\n",
       "  AttributeDict({'address': '0x1D2DA52c7bdc4d656E9478eC9Ceb844B9322276e',\n",
       "   'topics': [HexBytes('0xd78ad95fa46c994b6551d0da85fc275fe613ce37657fb8d5e3d130840159d822'),\n",
       "    HexBytes('0x000000000000000000000000d2a52f45c74b358abe1428bc43f0ce9ddf130780'),\n",
       "    HexBytes('0x000000000000000000000000b517850510997a34b4ddc8c3797b4f83fad510c4')],\n",
       "   'data': HexBytes('0x000000000000000000000000000000000000000000000035203b67bccad0000000000000000000000000000000000000000000000000000000000000000000000000000000000000000000000000000000000000000000000000000000000000000000000000000000000000000000000000000000000000008b23061ec19ca1'),\n",
       "   'blockNumber': 17972221,\n",
       "   'transactionHash': HexBytes('0x191aeb75d5ac81c46d97916cb88f9f02b4a6e5f854823beae99dbd6336f18928'),\n",
       "   'transactionIndex': 118,\n",
       "   'blockHash': HexBytes('0xa90aa313a4798bbaa04d4cfbbfba78c91dfe65725e09aaade3a4ddaee95d4d0d'),\n",
       "   'logIndex': 356,\n",
       "   'removed': False}),\n",
       "  AttributeDict({'address': '0xB517850510997a34b4DdC8c3797B4F83fAd510c4',\n",
       "   'topics': [HexBytes('0x42352fcb13ab7775dee73e828de21384d4697140c76bfc3f431a20817c15898c')],\n",
       "   'data': HexBytes('0x0000000000000000000000001eb2e705653fc9c076bf0428851c54c38e40462f000000000000000000000000c02aaa39b223fe8d0a0e5c4f27ead9083c756cc200000000000000000000000000000000000000000000003635c9adc5dea00000000000000000000000000000000000000000000000000000008b23061ec19ca1'),\n",
       "   'blockNumber': 17972221,\n",
       "   'transactionHash': HexBytes('0x191aeb75d5ac81c46d97916cb88f9f02b4a6e5f854823beae99dbd6336f18928'),\n",
       "   'transactionIndex': 118,\n",
       "   'blockHash': HexBytes('0xa90aa313a4798bbaa04d4cfbbfba78c91dfe65725e09aaade3a4ddaee95d4d0d'),\n",
       "   'logIndex': 357,\n",
       "   'removed': False}),\n",
       "  AttributeDict({'address': '0xC02aaA39b223FE8D0A0e5C4F27eAD9083C756Cc2',\n",
       "   'topics': [HexBytes('0x7fcf532c15f0a6db0bd6d0e038bea71d30d808c7d98cb3bf7268a95bf5081b65'),\n",
       "    HexBytes('0x000000000000000000000000b517850510997a34b4ddc8c3797b4f83fad510c4')],\n",
       "   'data': HexBytes('0x000000000000000000000000000000000000000000000000008b23061ec19ca1'),\n",
       "   'blockNumber': 17972221,\n",
       "   'transactionHash': HexBytes('0x191aeb75d5ac81c46d97916cb88f9f02b4a6e5f854823beae99dbd6336f18928'),\n",
       "   'transactionIndex': 118,\n",
       "   'blockHash': HexBytes('0xa90aa313a4798bbaa04d4cfbbfba78c91dfe65725e09aaade3a4ddaee95d4d0d'),\n",
       "   'logIndex': 358,\n",
       "   'removed': False})],\n",
       " 'logsBloom': HexBytes('0x00200000000000090000000080000000000000000000000800000000000480000000000000000000000002000000000002000000080000000000000000200000000000000000000800000008000000200000000000400000000000000000008000000800008081200000000000000000000000000000040000400010000020000200000000000000000000000000000000000000000000080000004000000000022000000000000000000000000000000000000000000000000000000000000000000002000004000000008020000800000000080000001000000002000000000010200000000004000000000000000000088000000006000000000000000000'),\n",
       " 'status': 1,\n",
       " 'to': '0xB517850510997a34b4DdC8c3797B4F83fAd510c4',\n",
       " 'transactionHash': HexBytes('0x191aeb75d5ac81c46d97916cb88f9f02b4a6e5f854823beae99dbd6336f18928'),\n",
       " 'transactionIndex': 118,\n",
       " 'type': 2})"
      ]
     },
     "execution_count": 37,
     "metadata": {},
     "output_type": "execute_result"
    }
   ],
   "source": [
    "from web3 import Web3\n",
    "w3 = Web3(Web3.HTTPProvider(os.environ['ETH_NODE_URL']))\n",
    "w3.eth.get_transaction_receipt(tx_hash)"
   ]
  },
  {
   "cell_type": "code",
   "execution_count": 33,
   "metadata": {},
   "outputs": [
    {
     "data": {
      "text/plain": [
       "1692731075"
      ]
     },
     "execution_count": 33,
     "metadata": {},
     "output_type": "execute_result"
    }
   ],
   "source": [
    "# 获取交易时间\n",
    "block_number = w3.eth.get_transaction_receipt(tx_hash)['blockNumber']\n",
    "block = w3.eth.get_block(block_number)\n",
    "block['timestamp']\n"
   ]
  },
  {
   "cell_type": "code",
   "execution_count": 30,
   "metadata": {},
   "outputs": [
    {
     "name": "stdout",
     "output_type": "stream",
     "text": [
      "ETH 价格（2024-01-01）: $2281.59\n"
     ]
    }
   ],
   "source": [
    "import requests\n",
    "import datetime\n",
    "\n",
    "def get_token_price(token_identifier, year, month, day):\n",
    "    # 将日期转换为 Unix 时间戳\n",
    "    dt = datetime.datetime(year, month, day, tzinfo=datetime.timezone.utc)\n",
    "    timestamp = int(dt.timestamp())\n",
    "\n",
    "    # DeFiLlama API\n",
    "    url = f\"https://coins.llama.fi/prices/historical/{timestamp}/{token_identifier}\"\n",
    "    response = requests.get(url)\n",
    "    \n",
    "    if response.status_code == 200:\n",
    "        data = response.json()\n",
    "        return data[\"coins\"][token_identifier][\"price\"]\n",
    "    else:\n",
    "        return None\n",
    "\n",
    "# 查询 ETH 价格\n",
    "eth_price = get_token_price(\"coingecko:ethereum\", 2024, 1, 1)\n",
    "print(f\"ETH 价格（2024-01-01）: ${eth_price}\")"
   ]
  },
  {
   "cell_type": "code",
   "execution_count": 2,
   "metadata": {},
   "outputs": [
    {
     "name": "stdout",
     "output_type": "stream",
     "text": [
      "获取STONKS价格失败: '0xF7686c16B6f24B25566B121CA4170d93Def1F5bD'\n",
      "获取到ETH价格: 1667.1\n",
      "获取到ETH价格: 1667.1\n"
     ]
    },
    {
     "data": {
      "text/html": [
       "<div>\n",
       "<style scoped>\n",
       "    .dataframe tbody tr th:only-of-type {\n",
       "        vertical-align: middle;\n",
       "    }\n",
       "\n",
       "    .dataframe tbody tr th {\n",
       "        vertical-align: top;\n",
       "    }\n",
       "\n",
       "    .dataframe thead th {\n",
       "        text-align: right;\n",
       "    }\n",
       "</style>\n",
       "<table border=\"1\" class=\"dataframe\">\n",
       "  <thead>\n",
       "    <tr style=\"text-align: right;\">\n",
       "      <th></th>\n",
       "      <th>ETH</th>\n",
       "      <th>STONKS</th>\n",
       "      <th>WETH</th>\n",
       "      <th>USD_VALUE</th>\n",
       "    </tr>\n",
       "    <tr>\n",
       "      <th>address</th>\n",
       "      <th></th>\n",
       "      <th></th>\n",
       "      <th></th>\n",
       "      <th></th>\n",
       "    </tr>\n",
       "  </thead>\n",
       "  <tbody>\n",
       "    <tr>\n",
       "      <th>0x1d2da52c7bdc4d656e9478ec9ceb844b9322276e</th>\n",
       "      <td>0.000000000000000000000000000000000000000000000...</td>\n",
       "      <td>980.0000000000000000000000000000000000000000000...</td>\n",
       "      <td>-0.03916353095556214525263527548304409720003604...</td>\n",
       "      <td>-65.2895224560176501427122275345027446746826171...</td>\n",
       "    </tr>\n",
       "    <tr>\n",
       "      <th>0x1eb2e705653fc9c076bf0428851c54c38e40462f</th>\n",
       "      <td>0.000000000000000000000000000000000000000000000...</td>\n",
       "      <td>20.00000000000000000000000000000000000000000000...</td>\n",
       "      <td>0.000000000000000000000000000000000000000000000...</td>\n",
       "      <td>0.000000000000000000000000000000000000000000000...</td>\n",
       "    </tr>\n",
       "    <tr>\n",
       "      <th>0x94d02ae7f71c8bc3cc06aa2e9641fb3ae5852444</th>\n",
       "      <td>0.039163530955562145252635275483044097200036048...</td>\n",
       "      <td>-1000.00000000000000000000000000000000000000000...</td>\n",
       "      <td>0.000000000000000000000000000000000000000000000...</td>\n",
       "      <td>65.28952245601765014271222753450274467468261718...</td>\n",
       "    </tr>\n",
       "    <tr>\n",
       "      <th>0xc02aaa39b223fe8d0a0e5c4f27ead9083c756cc2</th>\n",
       "      <td>-0.03916353095556214525263527548304409720003604...</td>\n",
       "      <td>0.000000000000000000000000000000000000000000000...</td>\n",
       "      <td>0.039163530955562145252635275483044097200036048...</td>\n",
       "      <td>0.000000000000000000000000000000000000000000000...</td>\n",
       "    </tr>\n",
       "  </tbody>\n",
       "</table>\n",
       "</div>"
      ],
      "text/plain": [
       "                                                                                          ETH  \\\n",
       "address                                                                                         \n",
       "0x1d2da52c7bdc4d656e9478ec9ceb844b9322276e 0.000000000000000000000000000000000000000000000...   \n",
       "0x1eb2e705653fc9c076bf0428851c54c38e40462f 0.000000000000000000000000000000000000000000000...   \n",
       "0x94d02ae7f71c8bc3cc06aa2e9641fb3ae5852444 0.039163530955562145252635275483044097200036048...   \n",
       "0xc02aaa39b223fe8d0a0e5c4f27ead9083c756cc2 -0.03916353095556214525263527548304409720003604...   \n",
       "\n",
       "                                                                                       STONKS  \\\n",
       "address                                                                                         \n",
       "0x1d2da52c7bdc4d656e9478ec9ceb844b9322276e 980.0000000000000000000000000000000000000000000...   \n",
       "0x1eb2e705653fc9c076bf0428851c54c38e40462f 20.00000000000000000000000000000000000000000000...   \n",
       "0x94d02ae7f71c8bc3cc06aa2e9641fb3ae5852444 -1000.00000000000000000000000000000000000000000...   \n",
       "0xc02aaa39b223fe8d0a0e5c4f27ead9083c756cc2 0.000000000000000000000000000000000000000000000...   \n",
       "\n",
       "                                                                                         WETH  \\\n",
       "address                                                                                         \n",
       "0x1d2da52c7bdc4d656e9478ec9ceb844b9322276e -0.03916353095556214525263527548304409720003604...   \n",
       "0x1eb2e705653fc9c076bf0428851c54c38e40462f 0.000000000000000000000000000000000000000000000...   \n",
       "0x94d02ae7f71c8bc3cc06aa2e9641fb3ae5852444 0.000000000000000000000000000000000000000000000...   \n",
       "0xc02aaa39b223fe8d0a0e5c4f27ead9083c756cc2 0.039163530955562145252635275483044097200036048...   \n",
       "\n",
       "                                                                                    USD_VALUE  \n",
       "address                                                                                        \n",
       "0x1d2da52c7bdc4d656e9478ec9ceb844b9322276e -65.2895224560176501427122275345027446746826171...  \n",
       "0x1eb2e705653fc9c076bf0428851c54c38e40462f 0.000000000000000000000000000000000000000000000...  \n",
       "0x94d02ae7f71c8bc3cc06aa2e9641fb3ae5852444 65.28952245601765014271222753450274467468261718...  \n",
       "0xc02aaa39b223fe8d0a0e5c4f27ead9083c756cc2 0.000000000000000000000000000000000000000000000...  "
      ]
     },
     "execution_count": 2,
     "metadata": {},
     "output_type": "execute_result"
    }
   ],
   "source": [
    "os.environ['ETH_NODE_URL'] = 'http://localhost:8545'\n",
    "os.environ['ETHERSCAN_API_KEY'] = '8R8P37SDCDX7WFW3B2QZTQS68X59F4QE9I'\n",
    "analyzer = AccountBalanceChangeAnalyzer()\n",
    "tx_hash = \"0x191aeb75d5ac81c46d97916cb88f9f02b4a6e5f854823beae99dbd6336f18928\"\n",
    "result = analyzer.get_account_balance_change(tx_hash,convert_usd=True)\n",
    "result"
   ]
  },
  {
   "cell_type": "code",
   "execution_count": 3,
   "metadata": {},
   "outputs": [],
   "source": [
    "tx_hashes = [\n",
    "    \"0x191aeb75d5ac81c46d97916cb88f9f02b4a6e5f854823beae99dbd6336f18928\",\n",
    "    \"0x40d4a421465acc8d4c63c9175e6858e614b76560fef6f46dd4694e9fba99b674\",\n",
    "    \"0xb50f927760c2e6b14a969d515a5ceffc5bbb7f5a0685db05c3766a90a01d63df\"\n",
    "]\n",
    "\n",
    "results = analyzer.analyze_batch_transactions(tx_hashes)"
   ]
  },
  {
   "cell_type": "code",
   "execution_count": 8,
   "metadata": {},
   "outputs": [
    {
     "data": {
      "text/html": [
       "<div>\n",
       "<style scoped>\n",
       "    .dataframe tbody tr th:only-of-type {\n",
       "        vertical-align: middle;\n",
       "    }\n",
       "\n",
       "    .dataframe tbody tr th {\n",
       "        vertical-align: top;\n",
       "    }\n",
       "\n",
       "    .dataframe thead th {\n",
       "        text-align: right;\n",
       "    }\n",
       "</style>\n",
       "<table border=\"1\" class=\"dataframe\">\n",
       "  <thead>\n",
       "    <tr style=\"text-align: right;\">\n",
       "      <th></th>\n",
       "      <th>ETH</th>\n",
       "      <th>STONKS</th>\n",
       "      <th>WETH</th>\n",
       "    </tr>\n",
       "    <tr>\n",
       "      <th>address</th>\n",
       "      <th></th>\n",
       "      <th></th>\n",
       "      <th></th>\n",
       "    </tr>\n",
       "  </thead>\n",
       "  <tbody>\n",
       "    <tr>\n",
       "      <th>0x6e074b3aa4b1fddda2b0fcb6b4c4c70875b548b3</th>\n",
       "      <td>0.000000000000000000000000000000000000000000000...</td>\n",
       "      <td>NaN</td>\n",
       "      <td>NaN</td>\n",
       "    </tr>\n",
       "    <tr>\n",
       "      <th>0xa1c574c0db64ba4ce011da8cd5fa6386d94a5d72</th>\n",
       "      <td>0.000000000000000000000000000000000000000000000...</td>\n",
       "      <td>NaN</td>\n",
       "      <td>NaN</td>\n",
       "    </tr>\n",
       "    <tr>\n",
       "      <th>0xd09671619223b505418fbf63d180ccce52e2255d</th>\n",
       "      <td>0.000000000000000000000000000000000000000000000...</td>\n",
       "      <td>NaN</td>\n",
       "      <td>NaN</td>\n",
       "    </tr>\n",
       "  </tbody>\n",
       "</table>\n",
       "</div>"
      ],
      "text/plain": [
       "                                                                                          ETH  \\\n",
       "address                                                                                         \n",
       "0x6e074b3aa4b1fddda2b0fcb6b4c4c70875b548b3 0.000000000000000000000000000000000000000000000...   \n",
       "0xa1c574c0db64ba4ce011da8cd5fa6386d94a5d72 0.000000000000000000000000000000000000000000000...   \n",
       "0xd09671619223b505418fbf63d180ccce52e2255d 0.000000000000000000000000000000000000000000000...   \n",
       "\n",
       "                                            STONKS  WETH  \n",
       "address                                                   \n",
       "0x6e074b3aa4b1fddda2b0fcb6b4c4c70875b548b3     NaN   NaN  \n",
       "0xa1c574c0db64ba4ce011da8cd5fa6386d94a5d72     NaN   NaN  \n",
       "0xd09671619223b505418fbf63d180ccce52e2255d     NaN   NaN  "
      ]
     },
     "execution_count": 8,
     "metadata": {},
     "output_type": "execute_result"
    }
   ],
   "source": [
    "results['0xb50f927760c2e6b14a969d515a5ceffc5bbb7f5a0685db05c3766a90a01d63df']"
   ]
  },
  {
   "cell_type": "code",
   "execution_count": 21,
   "metadata": {},
   "outputs": [
    {
     "ename": "FileNotFoundError",
     "evalue": "[Errno 2] No such file or directory: '/home/bdlt/miniconda3/envs/eth/lib/python3.10/site-packages/transaction_balance_analyzer/data/ABC_token_data.csv'",
     "output_type": "error",
     "traceback": [
      "\u001b[0;31m---------------------------------------------------------------------------\u001b[0m",
      "\u001b[0;31mFileNotFoundError\u001b[0m                         Traceback (most recent call last)",
      "Cell \u001b[0;32mIn[21], line 3\u001b[0m\n\u001b[1;32m      1\u001b[0m \u001b[38;5;28;01mfrom\u001b[39;00m \u001b[38;5;21;01mtransaction_balance_analyzer\u001b[39;00m \u001b[38;5;28;01mimport\u001b[39;00m AccountBalanceChangeAnalyzer\n\u001b[0;32m----> 3\u001b[0m analyzer \u001b[38;5;241m=\u001b[39m \u001b[43mAccountBalanceChangeAnalyzer\u001b[49m\u001b[43m(\u001b[49m\u001b[43m)\u001b[49m\n\u001b[1;32m      4\u001b[0m tx_hash \u001b[38;5;241m=\u001b[39m \u001b[38;5;124m\"\u001b[39m\u001b[38;5;124m0x191aeb75d5ac81c46d97916cb88f9f02b4a6e5f854823beae99dbd6336f18928\u001b[39m\u001b[38;5;124m\"\u001b[39m\n\u001b[1;32m      6\u001b[0m \u001b[38;5;66;03m# 获取包含USD价值的结果\u001b[39;00m\n",
      "File \u001b[0;32m~/miniconda3/envs/eth/lib/python3.10/site-packages/transaction_balance_analyzer/analyzer.py:50\u001b[0m, in \u001b[0;36mAccountBalanceChangeAnalyzer.__init__\u001b[0;34m(self, node_url, api_key, timeout, cache_size)\u001b[0m\n\u001b[1;32m     43\u001b[0m token_data_path \u001b[38;5;241m=\u001b[39m pkg_resources\u001b[38;5;241m.\u001b[39mresource_filename(\n\u001b[1;32m     44\u001b[0m     \u001b[38;5;124m'\u001b[39m\u001b[38;5;124mtransaction_balance_analyzer\u001b[39m\u001b[38;5;124m'\u001b[39m, \u001b[38;5;124m'\u001b[39m\u001b[38;5;124mdata/ABC_token_data.csv\u001b[39m\u001b[38;5;124m'\u001b[39m\n\u001b[1;32m     45\u001b[0m )\n\u001b[1;32m     46\u001b[0m default_abi_path \u001b[38;5;241m=\u001b[39m pkg_resources\u001b[38;5;241m.\u001b[39mresource_filename(\n\u001b[1;32m     47\u001b[0m     \u001b[38;5;124m'\u001b[39m\u001b[38;5;124mtransaction_balance_analyzer\u001b[39m\u001b[38;5;124m'\u001b[39m, \u001b[38;5;124m'\u001b[39m\u001b[38;5;124mdata/default_abi.json\u001b[39m\u001b[38;5;124m'\u001b[39m\n\u001b[1;32m     48\u001b[0m )\n\u001b[0;32m---> 50\u001b[0m \u001b[38;5;28mself\u001b[39m\u001b[38;5;241m.\u001b[39mtoken_data \u001b[38;5;241m=\u001b[39m \u001b[43mpd\u001b[49m\u001b[38;5;241;43m.\u001b[39;49m\u001b[43mread_csv\u001b[49m\u001b[43m(\u001b[49m\u001b[43mtoken_data_path\u001b[49m\u001b[43m)\u001b[49m\n\u001b[1;32m     51\u001b[0m \u001b[38;5;28;01mwith\u001b[39;00m \u001b[38;5;28mopen\u001b[39m(default_abi_path, \u001b[38;5;124m'\u001b[39m\u001b[38;5;124mr\u001b[39m\u001b[38;5;124m'\u001b[39m) \u001b[38;5;28;01mas\u001b[39;00m json_file:\n\u001b[1;32m     52\u001b[0m     \u001b[38;5;28mself\u001b[39m\u001b[38;5;241m.\u001b[39mdefault_abi \u001b[38;5;241m=\u001b[39m json\u001b[38;5;241m.\u001b[39mload(json_file)\n",
      "File \u001b[0;32m~/miniconda3/envs/eth/lib/python3.10/site-packages/pandas/io/parsers/readers.py:948\u001b[0m, in \u001b[0;36mread_csv\u001b[0;34m(filepath_or_buffer, sep, delimiter, header, names, index_col, usecols, dtype, engine, converters, true_values, false_values, skipinitialspace, skiprows, skipfooter, nrows, na_values, keep_default_na, na_filter, verbose, skip_blank_lines, parse_dates, infer_datetime_format, keep_date_col, date_parser, date_format, dayfirst, cache_dates, iterator, chunksize, compression, thousands, decimal, lineterminator, quotechar, quoting, doublequote, escapechar, comment, encoding, encoding_errors, dialect, on_bad_lines, delim_whitespace, low_memory, memory_map, float_precision, storage_options, dtype_backend)\u001b[0m\n\u001b[1;32m    935\u001b[0m kwds_defaults \u001b[38;5;241m=\u001b[39m _refine_defaults_read(\n\u001b[1;32m    936\u001b[0m     dialect,\n\u001b[1;32m    937\u001b[0m     delimiter,\n\u001b[0;32m   (...)\u001b[0m\n\u001b[1;32m    944\u001b[0m     dtype_backend\u001b[38;5;241m=\u001b[39mdtype_backend,\n\u001b[1;32m    945\u001b[0m )\n\u001b[1;32m    946\u001b[0m kwds\u001b[38;5;241m.\u001b[39mupdate(kwds_defaults)\n\u001b[0;32m--> 948\u001b[0m \u001b[38;5;28;01mreturn\u001b[39;00m \u001b[43m_read\u001b[49m\u001b[43m(\u001b[49m\u001b[43mfilepath_or_buffer\u001b[49m\u001b[43m,\u001b[49m\u001b[43m \u001b[49m\u001b[43mkwds\u001b[49m\u001b[43m)\u001b[49m\n",
      "File \u001b[0;32m~/miniconda3/envs/eth/lib/python3.10/site-packages/pandas/io/parsers/readers.py:611\u001b[0m, in \u001b[0;36m_read\u001b[0;34m(filepath_or_buffer, kwds)\u001b[0m\n\u001b[1;32m    608\u001b[0m _validate_names(kwds\u001b[38;5;241m.\u001b[39mget(\u001b[38;5;124m\"\u001b[39m\u001b[38;5;124mnames\u001b[39m\u001b[38;5;124m\"\u001b[39m, \u001b[38;5;28;01mNone\u001b[39;00m))\n\u001b[1;32m    610\u001b[0m \u001b[38;5;66;03m# Create the parser.\u001b[39;00m\n\u001b[0;32m--> 611\u001b[0m parser \u001b[38;5;241m=\u001b[39m \u001b[43mTextFileReader\u001b[49m\u001b[43m(\u001b[49m\u001b[43mfilepath_or_buffer\u001b[49m\u001b[43m,\u001b[49m\u001b[43m \u001b[49m\u001b[38;5;241;43m*\u001b[39;49m\u001b[38;5;241;43m*\u001b[39;49m\u001b[43mkwds\u001b[49m\u001b[43m)\u001b[49m\n\u001b[1;32m    613\u001b[0m \u001b[38;5;28;01mif\u001b[39;00m chunksize \u001b[38;5;129;01mor\u001b[39;00m iterator:\n\u001b[1;32m    614\u001b[0m     \u001b[38;5;28;01mreturn\u001b[39;00m parser\n",
      "File \u001b[0;32m~/miniconda3/envs/eth/lib/python3.10/site-packages/pandas/io/parsers/readers.py:1448\u001b[0m, in \u001b[0;36mTextFileReader.__init__\u001b[0;34m(self, f, engine, **kwds)\u001b[0m\n\u001b[1;32m   1445\u001b[0m     \u001b[38;5;28mself\u001b[39m\u001b[38;5;241m.\u001b[39moptions[\u001b[38;5;124m\"\u001b[39m\u001b[38;5;124mhas_index_names\u001b[39m\u001b[38;5;124m\"\u001b[39m] \u001b[38;5;241m=\u001b[39m kwds[\u001b[38;5;124m\"\u001b[39m\u001b[38;5;124mhas_index_names\u001b[39m\u001b[38;5;124m\"\u001b[39m]\n\u001b[1;32m   1447\u001b[0m \u001b[38;5;28mself\u001b[39m\u001b[38;5;241m.\u001b[39mhandles: IOHandles \u001b[38;5;241m|\u001b[39m \u001b[38;5;28;01mNone\u001b[39;00m \u001b[38;5;241m=\u001b[39m \u001b[38;5;28;01mNone\u001b[39;00m\n\u001b[0;32m-> 1448\u001b[0m \u001b[38;5;28mself\u001b[39m\u001b[38;5;241m.\u001b[39m_engine \u001b[38;5;241m=\u001b[39m \u001b[38;5;28;43mself\u001b[39;49m\u001b[38;5;241;43m.\u001b[39;49m\u001b[43m_make_engine\u001b[49m\u001b[43m(\u001b[49m\u001b[43mf\u001b[49m\u001b[43m,\u001b[49m\u001b[43m \u001b[49m\u001b[38;5;28;43mself\u001b[39;49m\u001b[38;5;241;43m.\u001b[39;49m\u001b[43mengine\u001b[49m\u001b[43m)\u001b[49m\n",
      "File \u001b[0;32m~/miniconda3/envs/eth/lib/python3.10/site-packages/pandas/io/parsers/readers.py:1705\u001b[0m, in \u001b[0;36mTextFileReader._make_engine\u001b[0;34m(self, f, engine)\u001b[0m\n\u001b[1;32m   1703\u001b[0m     \u001b[38;5;28;01mif\u001b[39;00m \u001b[38;5;124m\"\u001b[39m\u001b[38;5;124mb\u001b[39m\u001b[38;5;124m\"\u001b[39m \u001b[38;5;129;01mnot\u001b[39;00m \u001b[38;5;129;01min\u001b[39;00m mode:\n\u001b[1;32m   1704\u001b[0m         mode \u001b[38;5;241m+\u001b[39m\u001b[38;5;241m=\u001b[39m \u001b[38;5;124m\"\u001b[39m\u001b[38;5;124mb\u001b[39m\u001b[38;5;124m\"\u001b[39m\n\u001b[0;32m-> 1705\u001b[0m \u001b[38;5;28mself\u001b[39m\u001b[38;5;241m.\u001b[39mhandles \u001b[38;5;241m=\u001b[39m \u001b[43mget_handle\u001b[49m\u001b[43m(\u001b[49m\n\u001b[1;32m   1706\u001b[0m \u001b[43m    \u001b[49m\u001b[43mf\u001b[49m\u001b[43m,\u001b[49m\n\u001b[1;32m   1707\u001b[0m \u001b[43m    \u001b[49m\u001b[43mmode\u001b[49m\u001b[43m,\u001b[49m\n\u001b[1;32m   1708\u001b[0m \u001b[43m    \u001b[49m\u001b[43mencoding\u001b[49m\u001b[38;5;241;43m=\u001b[39;49m\u001b[38;5;28;43mself\u001b[39;49m\u001b[38;5;241;43m.\u001b[39;49m\u001b[43moptions\u001b[49m\u001b[38;5;241;43m.\u001b[39;49m\u001b[43mget\u001b[49m\u001b[43m(\u001b[49m\u001b[38;5;124;43m\"\u001b[39;49m\u001b[38;5;124;43mencoding\u001b[39;49m\u001b[38;5;124;43m\"\u001b[39;49m\u001b[43m,\u001b[49m\u001b[43m \u001b[49m\u001b[38;5;28;43;01mNone\u001b[39;49;00m\u001b[43m)\u001b[49m\u001b[43m,\u001b[49m\n\u001b[1;32m   1709\u001b[0m \u001b[43m    \u001b[49m\u001b[43mcompression\u001b[49m\u001b[38;5;241;43m=\u001b[39;49m\u001b[38;5;28;43mself\u001b[39;49m\u001b[38;5;241;43m.\u001b[39;49m\u001b[43moptions\u001b[49m\u001b[38;5;241;43m.\u001b[39;49m\u001b[43mget\u001b[49m\u001b[43m(\u001b[49m\u001b[38;5;124;43m\"\u001b[39;49m\u001b[38;5;124;43mcompression\u001b[39;49m\u001b[38;5;124;43m\"\u001b[39;49m\u001b[43m,\u001b[49m\u001b[43m \u001b[49m\u001b[38;5;28;43;01mNone\u001b[39;49;00m\u001b[43m)\u001b[49m\u001b[43m,\u001b[49m\n\u001b[1;32m   1710\u001b[0m \u001b[43m    \u001b[49m\u001b[43mmemory_map\u001b[49m\u001b[38;5;241;43m=\u001b[39;49m\u001b[38;5;28;43mself\u001b[39;49m\u001b[38;5;241;43m.\u001b[39;49m\u001b[43moptions\u001b[49m\u001b[38;5;241;43m.\u001b[39;49m\u001b[43mget\u001b[49m\u001b[43m(\u001b[49m\u001b[38;5;124;43m\"\u001b[39;49m\u001b[38;5;124;43mmemory_map\u001b[39;49m\u001b[38;5;124;43m\"\u001b[39;49m\u001b[43m,\u001b[49m\u001b[43m \u001b[49m\u001b[38;5;28;43;01mFalse\u001b[39;49;00m\u001b[43m)\u001b[49m\u001b[43m,\u001b[49m\n\u001b[1;32m   1711\u001b[0m \u001b[43m    \u001b[49m\u001b[43mis_text\u001b[49m\u001b[38;5;241;43m=\u001b[39;49m\u001b[43mis_text\u001b[49m\u001b[43m,\u001b[49m\n\u001b[1;32m   1712\u001b[0m \u001b[43m    \u001b[49m\u001b[43merrors\u001b[49m\u001b[38;5;241;43m=\u001b[39;49m\u001b[38;5;28;43mself\u001b[39;49m\u001b[38;5;241;43m.\u001b[39;49m\u001b[43moptions\u001b[49m\u001b[38;5;241;43m.\u001b[39;49m\u001b[43mget\u001b[49m\u001b[43m(\u001b[49m\u001b[38;5;124;43m\"\u001b[39;49m\u001b[38;5;124;43mencoding_errors\u001b[39;49m\u001b[38;5;124;43m\"\u001b[39;49m\u001b[43m,\u001b[49m\u001b[43m \u001b[49m\u001b[38;5;124;43m\"\u001b[39;49m\u001b[38;5;124;43mstrict\u001b[39;49m\u001b[38;5;124;43m\"\u001b[39;49m\u001b[43m)\u001b[49m\u001b[43m,\u001b[49m\n\u001b[1;32m   1713\u001b[0m \u001b[43m    \u001b[49m\u001b[43mstorage_options\u001b[49m\u001b[38;5;241;43m=\u001b[39;49m\u001b[38;5;28;43mself\u001b[39;49m\u001b[38;5;241;43m.\u001b[39;49m\u001b[43moptions\u001b[49m\u001b[38;5;241;43m.\u001b[39;49m\u001b[43mget\u001b[49m\u001b[43m(\u001b[49m\u001b[38;5;124;43m\"\u001b[39;49m\u001b[38;5;124;43mstorage_options\u001b[39;49m\u001b[38;5;124;43m\"\u001b[39;49m\u001b[43m,\u001b[49m\u001b[43m \u001b[49m\u001b[38;5;28;43;01mNone\u001b[39;49;00m\u001b[43m)\u001b[49m\u001b[43m,\u001b[49m\n\u001b[1;32m   1714\u001b[0m \u001b[43m\u001b[49m\u001b[43m)\u001b[49m\n\u001b[1;32m   1715\u001b[0m \u001b[38;5;28;01massert\u001b[39;00m \u001b[38;5;28mself\u001b[39m\u001b[38;5;241m.\u001b[39mhandles \u001b[38;5;129;01mis\u001b[39;00m \u001b[38;5;129;01mnot\u001b[39;00m \u001b[38;5;28;01mNone\u001b[39;00m\n\u001b[1;32m   1716\u001b[0m f \u001b[38;5;241m=\u001b[39m \u001b[38;5;28mself\u001b[39m\u001b[38;5;241m.\u001b[39mhandles\u001b[38;5;241m.\u001b[39mhandle\n",
      "File \u001b[0;32m~/miniconda3/envs/eth/lib/python3.10/site-packages/pandas/io/common.py:863\u001b[0m, in \u001b[0;36mget_handle\u001b[0;34m(path_or_buf, mode, encoding, compression, memory_map, is_text, errors, storage_options)\u001b[0m\n\u001b[1;32m    858\u001b[0m \u001b[38;5;28;01melif\u001b[39;00m \u001b[38;5;28misinstance\u001b[39m(handle, \u001b[38;5;28mstr\u001b[39m):\n\u001b[1;32m    859\u001b[0m     \u001b[38;5;66;03m# Check whether the filename is to be opened in binary mode.\u001b[39;00m\n\u001b[1;32m    860\u001b[0m     \u001b[38;5;66;03m# Binary mode does not support 'encoding' and 'newline'.\u001b[39;00m\n\u001b[1;32m    861\u001b[0m     \u001b[38;5;28;01mif\u001b[39;00m ioargs\u001b[38;5;241m.\u001b[39mencoding \u001b[38;5;129;01mand\u001b[39;00m \u001b[38;5;124m\"\u001b[39m\u001b[38;5;124mb\u001b[39m\u001b[38;5;124m\"\u001b[39m \u001b[38;5;129;01mnot\u001b[39;00m \u001b[38;5;129;01min\u001b[39;00m ioargs\u001b[38;5;241m.\u001b[39mmode:\n\u001b[1;32m    862\u001b[0m         \u001b[38;5;66;03m# Encoding\u001b[39;00m\n\u001b[0;32m--> 863\u001b[0m         handle \u001b[38;5;241m=\u001b[39m \u001b[38;5;28;43mopen\u001b[39;49m\u001b[43m(\u001b[49m\n\u001b[1;32m    864\u001b[0m \u001b[43m            \u001b[49m\u001b[43mhandle\u001b[49m\u001b[43m,\u001b[49m\n\u001b[1;32m    865\u001b[0m \u001b[43m            \u001b[49m\u001b[43mioargs\u001b[49m\u001b[38;5;241;43m.\u001b[39;49m\u001b[43mmode\u001b[49m\u001b[43m,\u001b[49m\n\u001b[1;32m    866\u001b[0m \u001b[43m            \u001b[49m\u001b[43mencoding\u001b[49m\u001b[38;5;241;43m=\u001b[39;49m\u001b[43mioargs\u001b[49m\u001b[38;5;241;43m.\u001b[39;49m\u001b[43mencoding\u001b[49m\u001b[43m,\u001b[49m\n\u001b[1;32m    867\u001b[0m \u001b[43m            \u001b[49m\u001b[43merrors\u001b[49m\u001b[38;5;241;43m=\u001b[39;49m\u001b[43merrors\u001b[49m\u001b[43m,\u001b[49m\n\u001b[1;32m    868\u001b[0m \u001b[43m            \u001b[49m\u001b[43mnewline\u001b[49m\u001b[38;5;241;43m=\u001b[39;49m\u001b[38;5;124;43m\"\u001b[39;49m\u001b[38;5;124;43m\"\u001b[39;49m\u001b[43m,\u001b[49m\n\u001b[1;32m    869\u001b[0m \u001b[43m        \u001b[49m\u001b[43m)\u001b[49m\n\u001b[1;32m    870\u001b[0m     \u001b[38;5;28;01melse\u001b[39;00m:\n\u001b[1;32m    871\u001b[0m         \u001b[38;5;66;03m# Binary mode\u001b[39;00m\n\u001b[1;32m    872\u001b[0m         handle \u001b[38;5;241m=\u001b[39m \u001b[38;5;28mopen\u001b[39m(handle, ioargs\u001b[38;5;241m.\u001b[39mmode)\n",
      "\u001b[0;31mFileNotFoundError\u001b[0m: [Errno 2] No such file or directory: '/home/bdlt/miniconda3/envs/eth/lib/python3.10/site-packages/transaction_balance_analyzer/data/ABC_token_data.csv'"
     ]
    }
   ],
   "source": [
    "from transaction_balance_analyzer import AccountBalanceChangeAnalyzer\n",
    "\n",
    "analyzer = AccountBalanceChangeAnalyzer()\n",
    "tx_hash = \"0x191aeb75d5ac81c46d97916cb88f9f02b4a6e5f854823beae99dbd6336f18928\"\n",
    "\n",
    "# 获取包含USD价值的结果\n",
    "result = analyzer.get_account_balance_change(tx_hash, convert_usd=True)\n",
    "print(result)"
   ]
  }
 ],
 "metadata": {
  "kernelspec": {
   "display_name": "base",
   "language": "python",
   "name": "python3"
  },
  "language_info": {
   "codemirror_mode": {
    "name": "ipython",
    "version": 3
   },
   "file_extension": ".py",
   "mimetype": "text/x-python",
   "name": "python",
   "nbconvert_exporter": "python",
   "pygments_lexer": "ipython3",
   "version": "3.11.5"
  }
 },
 "nbformat": 4,
 "nbformat_minor": 2
}
